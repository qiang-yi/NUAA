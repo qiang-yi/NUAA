{
 "cells": [
  {
   "cell_type": "markdown",
   "metadata": {
    "nbpresent": {
     "id": "c6bfb25d-e7a8-4c64-a4b0-2addfae63bd0"
    }
   },
   "source": [
    "# Python Basics"
   ]
  },
  {
   "cell_type": "markdown",
   "metadata": {
    "nbpresent": {
     "id": "ccd91f94-7462-4855-b41e-4e4d92c51869"
    }
   },
   "source": [
    "# Python\n",
    "* One of the most popular programming language in academia\n",
    "* Easy to learn/read/use\n",
    "* Abundant open-source packages for spatial analysis, statistics, data mining, and visualization \n",
    "* Large user group - you are not alone\n",
    "* Reproducable science - executable documentation of your research\n",
    "* Drawback: interpreted language - not as fast compiled languages (C, Fortran)"
   ]
  },
  {
   "cell_type": "markdown",
   "metadata": {
    "nbpresent": {
     "id": "cc6ab0ed-84f4-45dd-97f0-b189c7cdc7b7"
    }
   },
   "source": [
    "# Python Interface of ArcGIS\n",
    "\n",
    "* Another way to use ArcGIS functionalities (other than ModelBuilder and manual manipulation)\n",
    "* Chain and execute the geoprocessing tools in a logical sequential\n",
    "* Highly customizable - you can combine your program and ArcGIS built-in processing tools\n",
    "* Python scripts can be run as \n",
    "\t* commands in ArcGIS console\n",
    "\t* an external Python editor (an integrated development evironment, or IDE).\n",
    "* Drawbacks: \n",
    "    * Not free (you need license) and not open-source (blackbox)"
   ]
  },
  {
   "cell_type": "markdown",
   "metadata": {
    "nbpresent": {
     "id": "478eb0d5-fcd7-42d5-ad76-35f1cac7b934"
    }
   },
   "source": [
    "# Python Console in ArcGIS\n",
    "\n",
    "![](C:/Users/Yi Qiang/Documents/UH_work/Teaching/GEOG489/labs/lab1b_data/misc/panel.png)\n",
    "\n",
    "![](C:/Users/Yi Qiang/Documents/UH_work/Teaching/GEOG489/labs/lab1b_data/misc/console.png)\n",
    "\n",
    "* Easy to use (no need to open another editor)\n",
    "* Interactive - see results when enter a line (like a command)\n"
   ]
  },
  {
   "cell_type": "markdown",
   "metadata": {
    "nbpresent": {
     "id": "4ff054f1-538a-4cb6-8e03-331a3d4f1be1"
    }
   },
   "source": [
    "# An External Python Editor\n",
    "* Integrated Development Environment or IDE\n",
    "* More functionalities that help programming\n",
    "* [10 Best Python Editors](http://noeticforce.com/best-python-ide-for-programmers-windows-and-mac) \n",
    "\t* Pydev with Eclipse\n",
    "\t* Best Python IDE\n",
    "\t* PyCharm\n",
    "\t* VIM\n",
    "\t* Wing IDE. \n",
    "\t* Spyder Python. \n",
    "\t* Komodo IDE. \n",
    "\t* PTVS \n",
    "\t* Eric Python."
   ]
  },
  {
   "cell_type": "markdown",
   "metadata": {
    "nbpresent": {
     "id": "f46b4a54-956d-482e-8f49-2c070062642c"
    }
   },
   "source": [
    "# The Interface of IDE\n",
    "![](../labs/lab1b_data/misc/Interface.png)"
   ]
  },
  {
   "cell_type": "markdown",
   "metadata": {
    "nbpresent": {
     "id": "fa7f65ee-f09b-4916-8dd9-e93a852dfab9"
    }
   },
   "source": [
    "# 1 Basics of Python\n",
    "\n",
    "## 1.1 Numbers\n",
    "### Assign values\n",
    "#### You don't need to explicitly declare the type of variables. Python will decide the variable type from the assigned value."
   ]
  },
  {
   "cell_type": "code",
   "execution_count": null,
   "metadata": {
    "collapsed": true
   },
   "outputs": [],
   "source": [
    "a = 10\n",
    "b = 10.0\n",
    "print(type(a))\n",
    "print(type(b))"
   ]
  },
  {
   "cell_type": "markdown",
   "metadata": {},
   "source": [
    "#### Python is case sensitive"
   ]
  },
  {
   "cell_type": "code",
   "execution_count": null,
   "metadata": {
    "collapsed": true
   },
   "outputs": [],
   "source": [
    "Variable = 100\n",
    "print variable"
   ]
  },
  {
   "cell_type": "markdown",
   "metadata": {
    "nbpresent": {
     "id": "82ac1dcb-a1fe-42aa-9e90-b6bd35a31e7f"
    }
   },
   "source": [
    "#### Expression syntax is straightforward: e.g. +, -, * and /"
   ]
  },
  {
   "cell_type": "code",
   "execution_count": null,
   "metadata": {
    "collapsed": true,
    "nbpresent": {
     "id": "bcb36c0c-01b3-4a4b-92ce-e9ae7e244e45"
    }
   },
   "outputs": [],
   "source": [
    "2 + 2"
   ]
  },
  {
   "cell_type": "markdown",
   "metadata": {},
   "source": [
    "#### * / are of higher precedence than + -"
   ]
  },
  {
   "cell_type": "code",
   "execution_count": null,
   "metadata": {
    "nbpresent": {
     "id": "5f5cb408-8211-4306-8274-4a849b0ac706"
    }
   },
   "outputs": [],
   "source": [
    "5 + 6 / 3"
   ]
  },
  {
   "cell_type": "code",
   "execution_count": null,
   "metadata": {
    "nbpresent": {
     "id": "3c3212c7-f73c-4d01-b323-389bd7302f61"
    }
   },
   "outputs": [],
   "source": [
    "((50 - 5) * 6) / 4 # use parenthesis to define the precedence of operators"
   ]
  },
  {
   "cell_type": "markdown",
   "metadata": {
    "nbpresent": {
     "id": "d7fde63e-a083-45f4-bcba-8ed525ba6686"
    }
   },
   "source": [
    "#### Other expressions"
   ]
  },
  {
   "cell_type": "code",
   "execution_count": null,
   "metadata": {
    "collapsed": true,
    "nbpresent": {
     "id": "350acde7-6c1a-4ac3-a5f3-ecf1359b5cfd"
    }
   },
   "outputs": [],
   "source": [
    "17 // 3  # floor division discards the fractional part"
   ]
  },
  {
   "cell_type": "code",
   "execution_count": null,
   "metadata": {},
   "outputs": [],
   "source": [
    "5**2 #power"
   ]
  },
  {
   "cell_type": "markdown",
   "metadata": {
    "nbpresent": {
     "id": "9bacd498-a9d4-459d-8cdf-ee4eca7ab136"
    }
   },
   "source": [
    "## 1.2 Strings"
   ]
  },
  {
   "cell_type": "markdown",
   "metadata": {
    "nbpresent": {
     "id": "a007629b-be15-46b5-8120-93ea95b662ef"
    }
   },
   "source": [
    "#### Strings can be enclosed in single quotes ('...') or double quotes (\"...\") with the same result"
   ]
  },
  {
   "cell_type": "code",
   "execution_count": 30,
   "metadata": {
    "collapsed": true,
    "nbpresent": {
     "id": "991164ab-2340-416d-9fd5-2a63a93d969e"
    }
   },
   "outputs": [],
   "source": [
    "# Declare 3 variables\n",
    "a = 'Hello '\n",
    "b = \"World\"\n",
    "c = 3"
   ]
  },
  {
   "cell_type": "markdown",
   "metadata": {
    "nbpresent": {
     "id": "7100a713-7eb8-4040-970d-51648c48c4f9"
    }
   },
   "source": [
    "#### Strings can be concatenated by '+'"
   ]
  },
  {
   "cell_type": "code",
   "execution_count": null,
   "metadata": {
    "nbpresent": {
     "id": "0d935ded-2f1b-45b5-bd48-bbe9f3eb1c8d"
    }
   },
   "outputs": [],
   "source": [
    "a + b"
   ]
  },
  {
   "cell_type": "markdown",
   "metadata": {
    "nbpresent": {
     "id": "6007ea1a-d265-4c14-b195-9e595e236014"
    }
   },
   "source": [
    "#### Strings and numbers cannot be directly concatenated. You  need to convert number into string"
   ]
  },
  {
   "cell_type": "code",
   "execution_count": null,
   "metadata": {},
   "outputs": [],
   "source": [
    "a + c"
   ]
  },
  {
   "cell_type": "code",
   "execution_count": null,
   "metadata": {
    "nbpresent": {
     "id": "065ba3ad-00cc-4114-a86b-e64b1e09e2f8"
    }
   },
   "outputs": [],
   "source": [
    "a + str(c)"
   ]
  },
  {
   "cell_type": "markdown",
   "metadata": {
    "nbpresent": {
     "id": "cba292ab-137f-42da-9017-1e2ddcb32f0a"
    }
   },
   "source": [
    "#### Strings are essentially lists of letters/symbols"
   ]
  },
  {
   "cell_type": "code",
   "execution_count": null,
   "metadata": {
    "nbpresent": {
     "id": "3d9f6349-5c4d-4562-8166-fea8339c4590"
    }
   },
   "outputs": [],
   "source": [
    "a[0]"
   ]
  },
  {
   "cell_type": "code",
   "execution_count": null,
   "metadata": {
    "nbpresent": {
     "id": "d9b95181-3440-4251-8f24-e5ffc0371d54"
    }
   },
   "outputs": [],
   "source": [
    "a[2:4]"
   ]
  },
  {
   "cell_type": "markdown",
   "metadata": {
    "nbpresent": {
     "id": "8d8e2809-280e-45a3-97cd-cd739336bf98"
    }
   },
   "source": [
    "##  1.3 Lists: \n",
    "#### Written as a list of comma-separated values (items) between square brackets."
   ]
  },
  {
   "cell_type": "code",
   "execution_count": null,
   "metadata": {
    "collapsed": true,
    "nbpresent": {
     "id": "714e328e-26e8-4a5f-8b98-8c7bd6067f5c"
    }
   },
   "outputs": [],
   "source": [
    "# Declare a list of numbers\n",
    "squares = [1,4,9,16,25]\n",
    "str1=[\"H\",\"e\",\"l\",\"l\",\"o\"]\n",
    "comb = [1,'a',2,'b',3,'c']"
   ]
  },
  {
   "cell_type": "markdown",
   "metadata": {},
   "source": [
    "#### The indexing of Python list is from 0 to n-1.\n",
    "#### Or the reversed indexing is from -1 to -n\n",
    "![](figures/string.png)"
   ]
  },
  {
   "cell_type": "code",
   "execution_count": null,
   "metadata": {
    "collapsed": true,
    "nbpresent": {
     "id": "11b30855-989d-4e37-bc7c-e468269491bf"
    }
   },
   "outputs": [],
   "source": [
    "squares[0] # In Python, the first item is indexed as 0"
   ]
  },
  {
   "cell_type": "code",
   "execution_count": null,
   "metadata": {
    "collapsed": true,
    "nbpresent": {
     "id": "9a05e4db-8a1b-40d1-811e-8027669f5b73"
    }
   },
   "outputs": [],
   "source": [
    "squares[-1] # Index -1 refers to the last item"
   ]
  },
  {
   "cell_type": "code",
   "execution_count": null,
   "metadata": {
    "collapsed": true,
    "nbpresent": {
     "id": "45b742dd-662f-43cb-9509-97fdc91ee12b"
    }
   },
   "outputs": [],
   "source": [
    "squares[2:4]"
   ]
  },
  {
   "cell_type": "code",
   "execution_count": null,
   "metadata": {
    "collapsed": true
   },
   "outputs": [],
   "source": [
    "str1[-3:-1]"
   ]
  },
  {
   "cell_type": "markdown",
   "metadata": {},
   "source": [
    "str1[-1:-3]"
   ]
  },
  {
   "cell_type": "markdown",
   "metadata": {},
   "source": [
    "#### Lists might contain items of different types, but usually the items all have the same type."
   ]
  },
  {
   "cell_type": "code",
   "execution_count": null,
   "metadata": {
    "collapsed": true
   },
   "outputs": [],
   "source": [
    "comb = [1,'a',2,'b',3,'c']"
   ]
  },
  {
   "cell_type": "code",
   "execution_count": null,
   "metadata": {
    "collapsed": true,
    "nbpresent": {
     "id": "c55ba36c-4655-4e58-bb9f-da5f27ab40ff"
    }
   },
   "outputs": [],
   "source": [
    "print(type(comb[0]))\n",
    "print(type(comb[1]))"
   ]
  },
  {
   "cell_type": "code",
   "execution_count": null,
   "metadata": {
    "collapsed": true
   },
   "outputs": [],
   "source": [
    "str1[-2:-1]"
   ]
  },
  {
   "cell_type": "markdown",
   "metadata": {
    "nbpresent": {
     "id": "8004b0d4-606e-45f1-b814-ab37a8fcd6c0"
    }
   },
   "source": [
    "#### Use append() to add items at the end of the list"
   ]
  },
  {
   "cell_type": "code",
   "execution_count": null,
   "metadata": {},
   "outputs": [],
   "source": [
    "a=[] # Create an empty list\n",
    "a.append(1)\n",
    "print(a)\n",
    "a.append('b')\n",
    "print(a)\n",
    "a.append(3)\n",
    "print(a)"
   ]
  },
  {
   "cell_type": "markdown",
   "metadata": {
    "nbpresent": {
     "id": "fc627b40-83a2-4d2a-9d52-d7c079734fcd"
    }
   },
   "source": [
    "#### Shallow copy and hard copy\n",
    "* If b is a compound objects (e.g. list, array), `A = B` means a *shallow copy* from A to B\n",
    "* *Shallow copy* is making a reference from B to A, **not** copying the value from A to B.\n",
    "* You will need to use copy.deepcopy to copy the value from A to B.\n"
   ]
  },
  {
   "cell_type": "markdown",
   "metadata": {},
   "source": [
    "#### Create a list 'L1' and then copy 'L1' to 'L2':"
   ]
  },
  {
   "cell_type": "code",
   "execution_count": null,
   "metadata": {
    "nbpresent": {
     "id": "633a8ef1-2774-4568-93f7-aebfc7a60ae5"
    }
   },
   "outputs": [],
   "source": [
    "L1 = [1,2,3]\n",
    "L2 = L1\n",
    "print('L2:',L2)"
   ]
  },
  {
   "cell_type": "markdown",
   "metadata": {
    "nbpresent": {
     "id": "d86b6aaf-7da7-4c7a-b679-c7a38154af0c"
    }
   },
   "source": [
    "#### Then change the first element of L1, L2 will update automatically. Because L2 is a shallow copy of L1"
   ]
  },
  {
   "cell_type": "code",
   "execution_count": null,
   "metadata": {
    "nbpresent": {
     "id": "c46ba0d4-ff08-484f-a60a-6bff82339621"
    }
   },
   "outputs": [],
   "source": [
    "L2[1] = 100\n",
    "print('L1: ',L1)\n",
    "print('L2:',L2)"
   ]
  },
  {
   "cell_type": "markdown",
   "metadata": {
    "nbpresent": {
     "id": "e6a80eb9-e621-41fd-a0a0-619ede691a2a"
    }
   },
   "source": [
    "#### You need to use `copy.deepcopy` to copy the value of A to B"
   ]
  },
  {
   "cell_type": "code",
   "execution_count": null,
   "metadata": {
    "nbpresent": {
     "id": "3ab8367c-3c4c-43af-abd3-63b110f2df99"
    }
   },
   "outputs": [],
   "source": [
    "import copy\n",
    "L1 = [1,2,3]\n",
    "L2 = copy.deepcopy(L1)\n",
    "L1[0] = 4\n",
    "print('L1: ',L1)\n",
    "print('L2:',L2) "
   ]
  },
  {
   "cell_type": "markdown",
   "metadata": {
    "nbpresent": {
     "id": "3c190f66-5b29-424b-8346-c05b8ec8999f"
    }
   },
   "source": [
    "## 1.4 Control Flow Statements\n",
    "#### \"*if*\"Statement\n",
    "* Do different things according to if certain conditions hold true.\n",
    "* You can use multiple conditions"
   ]
  },
  {
   "cell_type": "code",
   "execution_count": null,
   "metadata": {},
   "outputs": [],
   "source": [
    "1 < 3"
   ]
  },
  {
   "cell_type": "code",
   "execution_count": null,
   "metadata": {
    "nbpresent": {
     "id": "ed109401-9406-4470-b3f8-632e92e35c22"
    }
   },
   "outputs": [],
   "source": [
    "x = int(input(\"Please enter an integer: \"))\n",
    "\n",
    "if x < 0:\n",
    "    print ('Negative')\n",
    "elif x == 0: # Note this is not '='\n",
    "    print ('Zero')\n",
    "elif x==1:\n",
    "    print ('Single')\n",
    "else:\n",
    "    print('More')"
   ]
  },
  {
   "cell_type": "markdown",
   "metadata": {
    "nbpresent": {
     "id": "51d52a2b-2789-47c8-beb2-e23c4d71883a"
    }
   },
   "source": [
    "* Recommend: very condition is exclusive to the others\n",
    "* If more than one condition are meet, do things in the first condition"
   ]
  },
  {
   "cell_type": "code",
   "execution_count": null,
   "metadata": {
    "nbpresent": {
     "id": "4efdd805-d456-42da-968c-7f0ddce4725b"
    }
   },
   "outputs": [],
   "source": [
    "x = int(input(\"Please enter an integer: \"))\n",
    "\n",
    "if x <5:\n",
    "    print ('x is smaller than 5')\n",
    "elif x>3:\n",
    "    print ('x is greater than 3')"
   ]
  },
  {
   "cell_type": "markdown",
   "metadata": {
    "nbpresent": {
     "id": "4bde1a70-27a2-4da3-9cca-ab0119b82b48"
    }
   },
   "source": [
    "#### '*for*' statement\n",
    "Iterate through every element in a list"
   ]
  },
  {
   "cell_type": "code",
   "execution_count": null,
   "metadata": {},
   "outputs": [],
   "source": [
    "words = ['cat', 'window', 'defenestrate'] # Create a list of 3 strings\n",
    "for letter in words:\n",
    "    print(letter,len(letter))"
   ]
  },
  {
   "cell_type": "markdown",
   "metadata": {
    "nbpresent": {
     "id": "6a3d864b-ab4a-41ce-99bd-dba545631468"
    }
   },
   "source": [
    "The following function range(a,b) creates a list of numbers from a to (b-1), then the for loop iterates through all numbers in the list."
   ]
  },
  {
   "cell_type": "code",
   "execution_count": null,
   "metadata": {},
   "outputs": [],
   "source": [
    "for i in range(1,10): # range defines a list from 1 to 10\n",
    "    print i*2"
   ]
  },
  {
   "cell_type": "markdown",
   "metadata": {
    "nbpresent": {
     "id": "6a76bebc-f9c0-4f97-b142-61ab8ad01a22"
    }
   },
   "source": [
    "#### '*while*' statement\n",
    "Repeat the same action if the condition hold true"
   ]
  },
  {
   "cell_type": "code",
   "execution_count": null,
   "metadata": {},
   "outputs": [],
   "source": [
    "a = 0\n",
    "while a < 10: # if a is smaller than b, repeat the following action\n",
    "    print a\n",
    "    a = a + 1"
   ]
  },
  {
   "cell_type": "markdown",
   "metadata": {
    "nbpresent": {
     "id": "ba951809-995a-40ec-832c-11f4bd28d7e4"
    }
   },
   "source": [
    "## 1.5 Function\n",
    "* A function is a block of organized, reusable code that is used to perform a single, related action. \n",
    "* A function typically takes some input variables/parameters and produce output (but not necessarily).\n",
    "* Python function is represented as 'FUN_NAME(ARG1,ARG2,...)'\n",
    "* All geoprocessing tools in arcpy are functions."
   ]
  },
  {
   "cell_type": "markdown",
   "metadata": {},
   "source": [
    "#### Declare a function\n",
    "\n",
    "Wrap a block of code into a function."
   ]
  },
  {
   "cell_type": "markdown",
   "metadata": {},
   "source": [
    "Given several lines of code"
   ]
  },
  {
   "cell_type": "code",
   "execution_count": null,
   "metadata": {
    "collapsed": true
   },
   "outputs": [],
   "source": [
    "print(\"Happy Birthday to you!\")\n",
    "print(\"Happy Birthday to you!\")\n",
    "print(\"Happy Birthday, dear Emily.\")\n",
    "print(\"Happy Birthday to you!\")"
   ]
  },
  {
   "cell_type": "markdown",
   "metadata": {},
   "source": [
    "You can wrap the code into a function"
   ]
  },
  {
   "cell_type": "code",
   "execution_count": null,
   "metadata": {
    "collapsed": true
   },
   "outputs": [],
   "source": [
    "def happyBirthdayEmily(): #program does nothing as written\n",
    "    print(\"Happy Birthday to you!\")\n",
    "    print(\"Happy Birthday to you!\")\n",
    "    print(\"Happy Birthday, dear Emily.\")\n",
    "    print(\"Happy Birthday to you!\")"
   ]
  },
  {
   "cell_type": "markdown",
   "metadata": {},
   "source": [
    "Then call the function"
   ]
  },
  {
   "cell_type": "code",
   "execution_count": null,
   "metadata": {
    "collapsed": true
   },
   "outputs": [],
   "source": [
    "happyBirthdayEmily()"
   ]
  },
  {
   "cell_type": "markdown",
   "metadata": {},
   "source": [
    "Declare a function calculate the summation of two input variables"
   ]
  },
  {
   "cell_type": "code",
   "execution_count": null,
   "metadata": {
    "collapsed": true
   },
   "outputs": [],
   "source": [
    "def sumProblemString(x, y):\n",
    "    sum = x + y\n",
    "    return sum"
   ]
  },
  {
   "cell_type": "markdown",
   "metadata": {},
   "source": [
    "#### Call a function\n",
    "Arrange input variables in () in the same order as declared "
   ]
  },
  {
   "cell_type": "code",
   "execution_count": null,
   "metadata": {},
   "outputs": [],
   "source": [
    "output = sumProblemString (243532,23423)\n",
    "print(output)"
   ]
  },
  {
   "cell_type": "markdown",
   "metadata": {
    "nbpresent": {
     "id": "55bf00dc-0dbc-445e-a3ea-dc0e5ce2b073"
    },
    "slideshow": {
     "slide_type": "slide"
    }
   },
   "source": [
    "# 2 Steps of using 'arcpy' for geoprocessing\n",
    "1. Import arcpy - make tools in arcpy ready to use\n",
    "2. Set environments - Define default settings used in your script\n",
    "3. Link data - specify the path of your data individually or by *Lists*\n",
    "4. Specify variables and parameters of geoprocessing tools\n",
    "5. Define an execution order of the tools"
   ]
  },
  {
   "cell_type": "markdown",
   "metadata": {
    "nbpresent": {
     "id": "1d25515c-792d-445a-b3d5-17b49fc4f868"
    }
   },
   "source": [
    "## Step 1: import arcpy"
   ]
  },
  {
   "cell_type": "code",
   "execution_count": 1,
   "metadata": {
    "nbpresent": {
     "id": "83564b0e-4631-4c08-b104-4ab4128ed021"
    },
    "scrolled": true,
    "slideshow": {
     "slide_type": "slide"
    }
   },
   "outputs": [],
   "source": [
    "import arcpy"
   ]
  },
  {
   "cell_type": "markdown",
   "metadata": {
    "nbpresent": {
     "id": "49959d10-1991-47bc-bbe4-b5641865906d"
    }
   },
   "source": [
    "##    Step 2: Set Environments (Set default values for your program)\n",
    "#### Set current workspace - specify the default input/output folder"
   ]
  },
  {
   "cell_type": "code",
   "execution_count": null,
   "metadata": {
    "collapsed": true,
    "nbpresent": {
     "id": "494ee3cd-64fe-4c38-b8b2-41884dd48625"
    }
   },
   "outputs": [],
   "source": [
    "arcpy.env.workspace = \"C:/Student/PythonGP10_0/Data/SanJuan.gdb\"\n",
    "print(arcpy.env.workspace)"
   ]
  },
  {
   "cell_type": "markdown",
   "metadata": {
    "nbpresent": {
     "id": "d9c2e4dd-bed4-4eae-a50a-e242c0defa32"
    }
   },
   "source": [
    "#### set the default cellsize:"
   ]
  },
  {
   "cell_type": "code",
   "execution_count": null,
   "metadata": {
    "collapsed": true,
    "nbpresent": {
     "id": "e5e1166a-bc49-4a70-9c10-18a5995a4be9"
    }
   },
   "outputs": [],
   "source": [
    "arcpy.env.cellsize = 10\n",
    "print(arcpy.env.cellsize)"
   ]
  },
  {
   "cell_type": "markdown",
   "metadata": {
    "nbpresent": {
     "id": "d5e3007e-d80d-44d6-af79-6eebc7aaac84"
    }
   },
   "source": [
    "#### Overwrite the output or not:"
   ]
  },
  {
   "cell_type": "code",
   "execution_count": null,
   "metadata": {
    "collapsed": true,
    "nbpresent": {
     "id": "b4856da2-97d1-4c03-9087-ff688718bce6"
    }
   },
   "outputs": [],
   "source": [
    "print(arcpy.env.overwriteOutput)"
   ]
  },
  {
   "cell_type": "code",
   "execution_count": null,
   "metadata": {
    "collapsed": true,
    "nbpresent": {
     "id": "7eab8052-f68c-489f-8c91-98d7982ef0eb"
    }
   },
   "outputs": [],
   "source": [
    "arcpy.env.overwriteOutput = True"
   ]
  },
  {
   "cell_type": "code",
   "execution_count": null,
   "metadata": {
    "collapsed": true,
    "nbpresent": {
     "id": "1d1b608f-ebb9-42b8-820b-1edf7ff06d92"
    }
   },
   "outputs": [],
   "source": [
    "print (arcpy.env.overwriteOutput)"
   ]
  },
  {
   "cell_type": "markdown",
   "metadata": {
    "nbpresent": {
     "id": "09f81336-2215-4e5b-a675-6039a4c8a2af"
    }
   },
   "source": [
    "#### The above scripts are equal to the following manual settings in ArcGIS:\n",
    "![](figures/workspace.png)"
   ]
  },
  {
   "cell_type": "markdown",
   "metadata": {
    "nbpresent": {
     "id": "28bf5fff-26cf-49d3-9d39-ef58967efc86"
    }
   },
   "source": [
    "#### Describe the properties of your data"
   ]
  },
  {
   "cell_type": "code",
   "execution_count": null,
   "metadata": {
    "collapsed": true,
    "nbpresent": {
     "id": "d1b73897-a09b-4327-8295-637584cc0e00"
    }
   },
   "outputs": [],
   "source": [
    "desc = arcpy.Describe(\"C:\\Student\\PythonGP10_0\\Data\\SanJuan.gdb\\Forest\")\n",
    "print(desc)"
   ]
  },
  {
   "cell_type": "code",
   "execution_count": null,
   "metadata": {
    "collapsed": true,
    "nbpresent": {
     "id": "28078666-8e9b-4889-b957-e8bd4b170e5c"
    }
   },
   "outputs": [],
   "source": [
    "print desc.shapeType"
   ]
  },
  {
   "cell_type": "code",
   "execution_count": null,
   "metadata": {
    "collapsed": true,
    "nbpresent": {
     "id": "cbcf5c79-f084-4396-bfe0-99f7e8491bd8"
    }
   },
   "outputs": [],
   "source": [
    "print desc.spatialReference.Name"
   ]
  },
  {
   "cell_type": "markdown",
   "metadata": {
    "nbpresent": {
     "id": "23998a97-c607-4834-ad92-2d19c54e6a85"
    }
   },
   "source": [
    "## Step 3: Link to Data\n",
    "#### Option 1: Link to data individually using path\n",
    "Link 'Streams' variable to the streams shapefile and print the shape type: "
   ]
  },
  {
   "cell_type": "code",
   "execution_count": 13,
   "metadata": {
    "nbpresent": {
     "id": "c8e5cf4c-cad7-41d6-bdba-433e77f41482"
    }
   },
   "outputs": [
    {
     "name": "stdout",
     "output_type": "stream",
     "text": [
      "Polyline\n"
     ]
    }
   ],
   "source": [
    "Streams=\"C:/Student/PythonGP10_0/Data/SanJuan.gdb/streams\"\n",
    "desc = arcpy.Describe(Streams)\n",
    "print (desc.shapeType)"
   ]
  },
  {
   "cell_type": "markdown",
   "metadata": {
    "nbpresent": {
     "id": "19fa9441-8fc6-45c3-b8ab-8b61b85ffd85"
    }
   },
   "source": [
    "Or, you can only write the portion of the path under the workspace"
   ]
  },
  {
   "cell_type": "code",
   "execution_count": 14,
   "metadata": {
    "nbpresent": {
     "id": "04338fb8-66cb-48ec-b0cc-9bc7db9803d9"
    }
   },
   "outputs": [
    {
     "name": "stdout",
     "output_type": "stream",
     "text": [
      "Polyline\n"
     ]
    }
   ],
   "source": [
    "arcpy.env.workspace = \"C:/Student/PythonGP10_0/Data/SanJuan.gdb\"\n",
    "Streams=\"streams\"\n",
    "desc = arcpy.Describe(Streams)\n",
    "print (desc.shapeType)"
   ]
  },
  {
   "cell_type": "markdown",
   "metadata": {
    "nbpresent": {
     "id": "96eb5c29-d70c-46d1-8b97-4b742e891eec"
    }
   },
   "source": [
    "#### Option 2: Creating lists of GIS data\n",
    "* List all GIS data in the workspace - you need to specify the workspace in advance\n",
    "* Represent GIS data in an ordered collection\n",
    "* You can freely add, remove and sort items in the list\n",
    "\n",
    "|Function name|Type of list|\n",
    "|---|---|\n",
    "|ListDatasets|Returns the datasets in the current workspace|\n",
    "|ListFeatureClasses|Returns the feature classes in the current workspace|\n",
    "|ListFields|Returns a list of attribute fields|\n",
    "|ListRasters|Returns a list of rasters found in the current workspace|\n",
    "|ListWorkspaces|Returns a list of workspaces within the current workspace|"
   ]
  },
  {
   "cell_type": "markdown",
   "metadata": {
    "nbpresent": {
     "id": "a31f46df-4a40-43d3-b897-d28a8ae6d364"
    }
   },
   "source": [
    "#### A list of feature classes is created from the contents of \"U:/Data/SanJuan.gdb\""
   ]
  },
  {
   "cell_type": "code",
   "execution_count": 16,
   "metadata": {},
   "outputs": [],
   "source": [
    "arcpy.env.workspace=\"C:/Student/PythonGP10_0/Data/SanJuan.gdb\"\n",
    "fcList = arcpy.ListFeatureClasses()"
   ]
  },
  {
   "cell_type": "markdown",
   "metadata": {
    "nbpresent": {
     "id": "1ddff138-59fd-4d6a-900b-1614019b5ce4"
    }
   },
   "source": [
    "#### Use a *for* loop to iterate through the list and print the name of each item"
   ]
  },
  {
   "cell_type": "code",
   "execution_count": 17,
   "metadata": {},
   "outputs": [
    {
     "name": "stdout",
     "output_type": "stream",
     "text": [
      "Streams\n",
      "Roads\n",
      "Lakes\n",
      "Wilderness\n",
      "Forest_background\n",
      "Forest\n",
      "Invasive_plants\n"
     ]
    }
   ],
   "source": [
    "for fc in fcList:\n",
    "    desc = arcpy.Describe(fc)\n",
    "    print desc.baseName"
   ]
  },
  {
   "cell_type": "markdown",
   "metadata": {
    "nbpresent": {
     "id": "39032c2e-0d6e-4645-9b7d-51ae9c97614c"
    }
   },
   "source": [
    "### Step 4: Specify variables/parameters for geoprocessing tools\n",
    "* All geoprocessing tools in ArcGIS can be used through Python (arcpy)\n",
    "* Geoprocessing tools are wrapped as functions with inputs and output\n",
    "* You can find the Python syntax of tools in ESRI Documentation or use 'Usage' function\n",
    "* You need to specify the input/output variables of the tools in order to run"
   ]
  },
  {
   "cell_type": "markdown",
   "metadata": {
    "nbpresent": {
     "id": "7b2cc49f-b5b5-4b34-96bf-ca3d12e0fd1a"
    }
   },
   "source": [
    "#### Specify input/output variables, parameters for the Buffer tool:"
   ]
  },
  {
   "cell_type": "code",
   "execution_count": 18,
   "metadata": {
    "scrolled": true
   },
   "outputs": [
    {
     "data": {
      "text/plain": [
       "<Result 'C:/Student/PythonGP10_0/Data/SanJuan.gdb\\\\RoadBuffers'>"
      ]
     },
     "execution_count": 18,
     "metadata": {},
     "output_type": "execute_result"
    }
   ],
   "source": [
    "inFeatures = \"Roads\"\n",
    "outBuffers = \"RoadBuffers\"\n",
    "# You can also use absolute path: \n",
    "# outBuffers = C:/Student/PythonGP10_0/Data/SanJuan.gdb\n",
    "buffField = \"1000 feet\"\n",
    "arcpy.Buffer_analysis(inFeatures, outBuffers, buffField)"
   ]
  },
  {
   "cell_type": "markdown",
   "metadata": {},
   "source": [
    "#### Check if the buffer is created."
   ]
  },
  {
   "cell_type": "code",
   "execution_count": 19,
   "metadata": {},
   "outputs": [
    {
     "name": "stdout",
     "output_type": "stream",
     "text": [
      "Streams\n",
      "Roads\n",
      "Lakes\n",
      "Wilderness\n",
      "Forest_background\n",
      "Forest\n",
      "Invasive_plants\n",
      "RoadBuffers\n"
     ]
    }
   ],
   "source": [
    "fcList = arcpy.ListFeatureClasses()\n",
    "for fc in fcList:\n",
    "    desc = arcpy.Describe(fc)\n",
    "    print desc.baseName"
   ]
  },
  {
   "cell_type": "markdown",
   "metadata": {
    "nbpresent": {
     "id": "afd198c6-5c24-4699-a629-ca8410859994"
    }
   },
   "source": [
    "* #### You can find python syntax of tools from ESRI documentation (google or toolbox)\n",
    "* #### Drag the tool from toolbox into ArcGIS Python console\n",
    "* #### Or use 'Usage' function"
   ]
  },
  {
   "cell_type": "code",
   "execution_count": null,
   "metadata": {},
   "outputs": [],
   "source": [
    "arcpy.Usage(\"Buffer_Analysis\")"
   ]
  },
  {
   "cell_type": "markdown",
   "metadata": {
    "nbpresent": {
     "id": "02477745-2c24-4d17-b441-e8074dfebe51"
    }
   },
   "source": [
    "## Step 5: Define an execution order of your tools\n",
    "#### For example, you define a workflow to find all invasive plants within 2000 meters from streams and 5000 meters from the wilderness\n",
    "#### 1. Create 3000 buffer for streams"
   ]
  },
  {
   "cell_type": "code",
   "execution_count": 20,
   "metadata": {
    "nbpresent": {
     "id": "a753dad7-8eac-43d8-ac12-5e1ed5770d6e"
    }
   },
   "outputs": [
    {
     "data": {
      "text/plain": [
       "<Result 'C:/Student/PythonGP10_0/Data/SanJuan.gdb\\\\streamBuffers'>"
      ]
     },
     "execution_count": 20,
     "metadata": {},
     "output_type": "execute_result"
    }
   ],
   "source": [
    "inFeatures1 = \"streams\"\n",
    "outBuffers1 = \"streamBuffers\"\n",
    "buffField1 = \"3000 meter\"\n",
    "arcpy.Buffer_analysis(inFeatures1, outBuffers1, buffField1)"
   ]
  },
  {
   "cell_type": "markdown",
   "metadata": {
    "nbpresent": {
     "id": "2db3278c-b6bb-4457-92c4-507db0febf7f"
    }
   },
   "source": [
    "#### 2. Create 5000m buffer for the wilderness"
   ]
  },
  {
   "cell_type": "code",
   "execution_count": 21,
   "metadata": {
    "nbpresent": {
     "id": "9ff078eb-1534-49fd-9408-f6aedcd64339"
    },
    "scrolled": true
   },
   "outputs": [
    {
     "data": {
      "text/plain": [
       "<Result 'C:/Student/PythonGP10_0/Data/SanJuan.gdb\\\\WildBuffers'>"
      ]
     },
     "execution_count": 21,
     "metadata": {},
     "output_type": "execute_result"
    }
   ],
   "source": [
    "inFeatures2 = \"Wilderness\"\n",
    "outBuffers2 = \"WildBuffers\"\n",
    "buffField2 = \"5000 meter\"\n",
    "arcpy.Buffer_analysis(inFeatures2, outBuffers2, buffField2)"
   ]
  },
  {
   "cell_type": "markdown",
   "metadata": {
    "nbpresent": {
     "id": "6db5d66b-636a-429d-9e2d-b7f154af68ab"
    }
   },
   "source": [
    "#### 3. Make an intersection of the two buffers"
   ]
  },
  {
   "cell_type": "code",
   "execution_count": 22,
   "metadata": {
    "nbpresent": {
     "id": "31f129be-7ac3-46a7-8e84-77c14a46f2c0"
    }
   },
   "outputs": [
    {
     "data": {
      "text/plain": [
       "<Result 'C:/Student/PythonGP10_0/Data/SanJuan.gdb\\\\bufferIntersect'>"
      ]
     },
     "execution_count": 22,
     "metadata": {},
     "output_type": "execute_result"
    }
   ],
   "source": [
    "arcpy.Intersect_analysis([outBuffers1,outBuffers2], \"bufferIntersect\")"
   ]
  },
  {
   "cell_type": "markdown",
   "metadata": {
    "nbpresent": {
     "id": "ba0adb8f-395c-435a-844c-8ac513c53c41"
    }
   },
   "source": [
    "#### 4. Create a feature layer for *invasive_plants*\n",
    "Because SelectLayerByLocation tool only works with feature layers, so you need to create a feature layer for the buffer intersect first.\n"
   ]
  },
  {
   "cell_type": "code",
   "execution_count": 25,
   "metadata": {
    "nbpresent": {
     "id": "d685b559-8580-44fa-9cff-a16c7be0ca93"
    },
    "scrolled": true
   },
   "outputs": [
    {
     "data": {
      "text/plain": [
       "<Result 'plant_lyr'>"
      ]
     },
     "execution_count": 25,
     "metadata": {},
     "output_type": "execute_result"
    }
   ],
   "source": [
    "arcpy.MakeFeatureLayer_management(\"invasive_plants\", \"plant_lyr\")"
   ]
  },
  {
   "cell_type": "markdown",
   "metadata": {
    "nbpresent": {
     "id": "8a8094b0-85ae-4168-9217-9e4c7235f250"
    }
   },
   "source": [
    "#### 5. Select invasive plants in the buffer intersection"
   ]
  },
  {
   "cell_type": "code",
   "execution_count": 26,
   "metadata": {
    "nbpresent": {
     "id": "2761bff4-4979-42fd-b03d-825388396fba"
    }
   },
   "outputs": [
    {
     "name": "stdout",
     "output_type": "stream",
     "text": [
      "The number of selected invasive plants are 4\n"
     ]
    }
   ],
   "source": [
    "arcpy.SelectLayerByLocation_management (\"plant_lyr\", \"WITHIN\", \"bufferIntersect\")\n",
    "# Get total number of invasive plants within the buffer intersection\n",
    "matchcount = int(arcpy.GetCount_management('plant_lyr')[0])\n",
    "print('The number of selected invasive plants are ' + str(matchcount)) # print it out\n"
   ]
  },
  {
   "cell_type": "markdown",
   "metadata": {
    "nbpresent": {
     "id": "915a2ea1-ae3d-434e-9880-50ff31881a96"
    }
   },
   "source": [
    "#### The above workflow can also be built in ModelBuilder\n",
    "![](figures/workflow.png)\n"
   ]
  }
 ],
 "metadata": {
  "anaconda-cloud": {},
  "kernelspec": {
   "display_name": "Python 2",
   "language": "python",
   "name": "python2"
  },
  "language_info": {
   "codemirror_mode": {
    "name": "ipython",
    "version": 2
   },
   "file_extension": ".py",
   "mimetype": "text/x-python",
   "name": "python",
   "nbconvert_exporter": "python",
   "pygments_lexer": "ipython2",
   "version": "2.7.13"
  },
  "nbpresent": {
   "slides": {
    "14777820-1bb5-4ff6-a972-37d642db5f59": {
     "id": "14777820-1bb5-4ff6-a972-37d642db5f59",
     "prev": "499d1bce-2e92-456b-a604-213fc7073726",
     "regions": {
      "157aa374-9d7f-4cd1-a83c-b3cb20b77815": {
       "attrs": {
        "height": 0.9182222222222223,
        "width": 0.904,
        "x": 0.038,
        "y": 0.042666666666666575
       },
       "content": {
        "cell": "f46b4a54-956d-482e-8f49-2c070062642c",
        "part": "source"
       },
       "height": 0.9,
       "id": "157aa374-9d7f-4cd1-a83c-b3cb20b77815",
       "width": 0.9,
       "x": 0.01,
       "y": 0.01
      }
     }
    },
    "3366a6ae-1757-43bc-afa2-1248168472c8": {
     "id": "3366a6ae-1757-43bc-afa2-1248168472c8",
     "prev": "14777820-1bb5-4ff6-a972-37d642db5f59",
     "regions": {
      "9440ae39-e0b9-4d82-b70e-fb538cbeae7d": {
       "attrs": {
        "height": 0.7937778320312501,
        "width": 0.842,
        "x": 0.1,
        "y": 0.08888888888888878
       },
       "content": {
        "cell": "fc627b40-83a2-4d2a-9d52-d7c079734fcd",
        "part": "source"
       },
       "height": 0.9,
       "id": "9440ae39-e0b9-4d82-b70e-fb538cbeae7d",
       "width": 0.9,
       "x": 0.01,
       "y": 0.01
      }
     }
    },
    "387700f9-20ed-4f6e-aa35-39b8457e7989": {
     "id": "387700f9-20ed-4f6e-aa35-39b8457e7989",
     "prev": "5a34a2bc-d12a-4947-b819-6e4d80e4a2fd",
     "regions": {
      "70ec9e16-c6f9-46c1-bbce-fbdf2825dc45": {
       "attrs": {
        "height": 0.9182222222222223,
        "width": 0.904,
        "x": 0.038,
        "y": 0.042666666666666575
       },
       "content": {
        "cell": "ccd91f94-7462-4855-b41e-4e4d92c51869",
        "part": "source"
       },
       "height": 0.9,
       "id": "70ec9e16-c6f9-46c1-bbce-fbdf2825dc45",
       "width": 0.9,
       "x": 0.01,
       "y": 0.01
      }
     }
    },
    "39f02a02-a91f-4bf0-93ea-f30cd5537ac9": {
     "id": "39f02a02-a91f-4bf0-93ea-f30cd5537ac9",
     "prev": "ab811b9a-3306-4538-9403-1faa0c943d21",
     "regions": {
      "6c8a63dc-8c61-46b5-9066-fdcb6c87a0df": {
       "attrs": {
        "height": 0.9182222222222223,
        "width": 0.904,
        "x": 0.038,
        "y": 0.042666666666666575
       },
       "content": {
        "cell": "ba951809-995a-40ec-832c-11f4bd28d7e4",
        "part": "source"
       },
       "height": 0.9,
       "id": "6c8a63dc-8c61-46b5-9066-fdcb6c87a0df",
       "width": 0.9,
       "x": 0.01,
       "y": 0.01
      }
     }
    },
    "499d1bce-2e92-456b-a604-213fc7073726": {
     "id": "499d1bce-2e92-456b-a604-213fc7073726",
     "prev": "fe84757a-963e-444d-ab7f-01c5f0055fd0",
     "regions": {
      "c46fe040-5a9b-474e-bbba-af54e5508e47": {
       "attrs": {
        "height": 0.9182222222222223,
        "width": 0.904,
        "x": 0.038,
        "y": 0.042666666666666575
       },
       "content": {
        "cell": "4ff054f1-538a-4cb6-8e03-331a3d4f1be1",
        "part": "source"
       },
       "height": 0.9,
       "id": "c46fe040-5a9b-474e-bbba-af54e5508e47",
       "width": 0.9,
       "x": 0.01,
       "y": 0.01
      }
     }
    },
    "5a34a2bc-d12a-4947-b819-6e4d80e4a2fd": {
     "id": "5a34a2bc-d12a-4947-b819-6e4d80e4a2fd",
     "prev": null,
     "regions": {
      "bc1edf9f-ad58-4ff4-b7ee-ea3c92cace17": {
       "attrs": {
        "height": 0.8400000000000001,
        "width": 0.81,
        "x": 0.096,
        "y": 0.12088888888888878
       },
       "content": {
        "cell": "c6bfb25d-e7a8-4c64-a4b0-2addfae63bd0",
        "part": "source"
       },
       "height": 0.9,
       "id": "bc1edf9f-ad58-4ff4-b7ee-ea3c92cace17",
       "width": 0.9,
       "x": 0.01,
       "y": 0.01
      }
     }
    },
    "5b57bd7c-a0e6-4b5b-a7ff-0192e53c633d": {
     "id": "5b57bd7c-a0e6-4b5b-a7ff-0192e53c633d",
     "prev": "387700f9-20ed-4f6e-aa35-39b8457e7989",
     "regions": {
      "fa6d13ec-8890-44dc-9bcc-d6dff69593fa": {
       "attrs": {
        "height": 0.9573333333333334,
        "width": 0.98,
        "x": 0.008,
        "y": 0.014222222222222127
       },
       "content": {
        "cell": "cc6ab0ed-84f4-45dd-97f0-b189c7cdc7b7",
        "part": "source"
       },
       "height": 0.9,
       "id": "fa6d13ec-8890-44dc-9bcc-d6dff69593fa",
       "width": 0.9,
       "x": 0.01,
       "y": 0.01
      }
     }
    },
    "ab811b9a-3306-4538-9403-1faa0c943d21": {
     "id": "ab811b9a-3306-4538-9403-1faa0c943d21",
     "prev": "3366a6ae-1757-43bc-afa2-1248168472c8",
     "regions": {
      "942e7749-7e32-40aa-b825-7e7c3ee8c080": {
       "attrs": {
        "height": 0.9182222222222223,
        "width": 0.904,
        "x": 0.038,
        "y": 0.042666666666666575
       },
       "content": {
        "cell": "3c190f66-5b29-424b-8346-c05b8ec8999f",
        "part": "source"
       },
       "height": 0.9,
       "id": "942e7749-7e32-40aa-b825-7e7c3ee8c080",
       "width": 0.9,
       "x": 0.01,
       "y": 0.01
      }
     }
    },
    "cd942684-1f01-41b2-ac62-07980c051826": {
     "id": "cd942684-1f01-41b2-ac62-07980c051826",
     "prev": "39f02a02-a91f-4bf0-93ea-f30cd5537ac9",
     "regions": {
      "b8925d5d-ff1e-4635-95dc-a61766024657": {
       "attrs": {
        "height": 0.9182222222222223,
        "width": 0.904,
        "x": 0.038,
        "y": 0.042666666666666575
       },
       "content": {
        "cell": "dddb151a-5841-412c-b2e5-a4f9b3db06d1",
        "part": "source"
       },
       "height": 0.9,
       "id": "b8925d5d-ff1e-4635-95dc-a61766024657",
       "width": 0.9,
       "x": 0.01,
       "y": 0.01
      }
     }
    },
    "fe84757a-963e-444d-ab7f-01c5f0055fd0": {
     "id": "fe84757a-963e-444d-ab7f-01c5f0055fd0",
     "prev": "5b57bd7c-a0e6-4b5b-a7ff-0192e53c633d",
     "regions": {
      "d42d2745-acff-4775-a992-1b2534c61e73": {
       "attrs": {
        "height": 0.9182222222222223,
        "width": 0.904,
        "x": 0.038,
        "y": 0.042666666666666575
       },
       "content": {
        "cell": "478eb0d5-fcd7-42d5-ad76-35f1cac7b934",
        "part": "source"
       },
       "height": 0.9,
       "id": "d42d2745-acff-4775-a992-1b2534c61e73",
       "width": 0.9,
       "x": 0.01,
       "y": 0.01
      }
     }
    }
   },
   "themes": {
    "default": "461fc31e-ba83-47f0-9143-e2699b25e0a4",
    "theme": {
     "1188f6ec-cb4e-4ae7-9ded-df5dea1b42c7": {
      "backgrounds": {
       "backgroundColor": {
        "background-color": "backgroundColor",
        "id": "backgroundColor"
       }
      },
      "id": "1188f6ec-cb4e-4ae7-9ded-df5dea1b42c7",
      "palette": {
       "backgroundColor": {
        "id": "backgroundColor",
        "rgb": [
         247,
         251,
         252
        ]
       },
       "headingColor": {
        "id": "headingColor",
        "rgb": [
         51,
         51,
         51
        ]
       },
       "linkColor": {
        "id": "linkColor",
        "rgb": [
         59,
         117,
         158
        ]
       },
       "mainColor": {
        "id": "mainColor",
        "rgb": [
         51,
         51,
         51
        ]
       }
      },
      "rules": {
       "a": {
        "color": "linkColor"
       },
       "h1": {
        "color": "headingColor",
        "font-family": "Quicksand",
        "font-size": 7
       },
       "h2": {
        "color": "headingColor",
        "font-family": "Quicksand",
        "font-size": 5
       },
       "h3": {
        "color": "headingColor",
        "font-family": "Quicksand",
        "font-size": 3.75
       },
       "h4": {
        "color": "headingColor",
        "font-family": "Quicksand",
        "font-size": 3
       },
       "h5": {
        "color": "headingColor",
        "font-family": "Quicksand"
       },
       "h6": {
        "color": "headingColor",
        "font-family": "Quicksand"
       },
       "h7": {
        "color": "headingColor",
        "font-family": "Quicksand"
       },
       "li": {
        "color": "mainColor",
        "font-family": "Open Sans",
        "font-size": 5
       },
       "p": {
        "color": "mainColor",
        "font-family": "Open Sans",
        "font-size": 5
       }
      },
      "text-base": {
       "color": "mainColor",
       "font-family": "Open Sans",
       "font-size": 5
      }
     },
     "28141bd1-6799-489b-b650-2f5cb0c41640": {
      "backgrounds": {
       "backgroundColor": {
        "background-color": "backgroundColor",
        "id": "backgroundColor"
       }
      },
      "id": "28141bd1-6799-489b-b650-2f5cb0c41640",
      "palette": {
       "backgroundColor": {
        "id": "backgroundColor",
        "rgb": [
         247,
         243,
         222
        ]
       },
       "headingColor": {
        "id": "headingColor",
        "rgb": [
         51,
         51,
         51
        ]
       },
       "linkColor": {
        "id": "linkColor",
        "rgb": [
         139,
         116,
         61
        ]
       },
       "mainColor": {
        "id": "mainColor",
        "rgb": [
         51,
         51,
         51
        ]
       }
      },
      "rules": {
       "a": {
        "color": "linkColor"
       },
       "h1": {
        "color": "headingColor",
        "font-family": "Oswald",
        "font-size": 7
       },
       "h2": {
        "color": "headingColor",
        "font-family": "Oswald",
        "font-size": 5
       },
       "h3": {
        "color": "headingColor",
        "font-family": "Oswald",
        "font-size": 3.75
       },
       "h4": {
        "color": "headingColor",
        "font-family": "Oswald",
        "font-size": 3
       },
       "h5": {
        "color": "headingColor",
        "font-family": "Oswald"
       },
       "h6": {
        "color": "headingColor",
        "font-family": "Oswald"
       },
       "h7": {
        "color": "headingColor",
        "font-family": "Oswald"
       },
       "li": {
        "color": "mainColor",
        "font-family": "Lato",
        "font-size": 5
       },
       "p": {
        "color": "mainColor",
        "font-family": "Lato",
        "font-size": 5
       }
      },
      "text-base": {
       "color": "mainColor",
       "font-family": "Lato",
       "font-size": 5
      }
     },
     "461fc31e-ba83-47f0-9143-e2699b25e0a4": {
      "backgrounds": {
       "backgroundColor": {
        "background-color": "backgroundColor",
        "id": "backgroundColor"
       }
      },
      "id": "461fc31e-ba83-47f0-9143-e2699b25e0a4",
      "palette": {
       "backgroundColor": {
        "id": "backgroundColor",
        "rgb": [
         17,
         17,
         17
        ]
       },
       "headingColor": {
        "id": "headingColor",
        "rgb": [
         238,
         238,
         238
        ]
       },
       "linkColor": {
        "id": "linkColor",
        "rgb": [
         231,
         173,
         82
        ]
       },
       "mainColor": {
        "id": "mainColor",
        "rgb": [
         238,
         238,
         238
        ]
       }
      },
      "rules": {
       "a": {
        "color": "linkColor"
       },
       "h1": {
        "color": "headingColor",
        "font-family": "Montserrat",
        "font-size": 7
       },
       "h2": {
        "color": "headingColor",
        "font-family": "Montserrat",
        "font-size": 5
       },
       "h3": {
        "color": "headingColor",
        "font-family": "Montserrat",
        "font-size": 3.75
       },
       "h4": {
        "color": "headingColor",
        "font-family": "Montserrat",
        "font-size": 3
       },
       "h5": {
        "color": "headingColor",
        "font-family": "Montserrat"
       },
       "h6": {
        "color": "headingColor",
        "font-family": "Montserrat"
       },
       "h7": {
        "color": "headingColor",
        "font-family": "Montserrat"
       },
       "li": {
        "color": "mainColor",
        "font-family": "Open Sans",
        "font-size": 4
       },
       "p": {
        "color": "mainColor",
        "font-family": "Open Sans",
        "font-size": 4
       }
      },
      "text-base": {
       "color": "mainColor",
       "font-family": "Open Sans",
       "font-size": 4
      }
     },
     "c70414c1-8cca-4bdd-992c-d3b3298311a2": {
      "backgrounds": {
       "backgroundColor": {
        "background-color": "backgroundColor",
        "id": "backgroundColor"
       }
      },
      "id": "c70414c1-8cca-4bdd-992c-d3b3298311a2",
      "palette": {
       "backgroundColor": {
        "id": "backgroundColor",
        "rgb": [
         34,
         34,
         34
        ]
       },
       "headingColor": {
        "id": "headingColor",
        "rgb": [
         238,
         238,
         238
        ]
       },
       "linkColor": {
        "id": "linkColor",
        "rgb": [
         170,
         34,
         51
        ]
       },
       "mainColor": {
        "id": "mainColor",
        "rgb": [
         238,
         238,
         238
        ]
       }
      },
      "rules": {
       "a": {
        "color": "linkColor"
       },
       "h1": {
        "color": "headingColor",
        "font-family": "Ubuntu",
        "font-size": 7
       },
       "h2": {
        "color": "headingColor",
        "font-family": "Ubuntu",
        "font-size": 5
       },
       "h3": {
        "color": "headingColor",
        "font-family": "Ubuntu",
        "font-size": 3.75
       },
       "h4": {
        "color": "headingColor",
        "font-family": "Ubuntu",
        "font-size": 3
       },
       "h5": {
        "color": "headingColor",
        "font-family": "Ubuntu"
       },
       "h6": {
        "color": "headingColor",
        "font-family": "Ubuntu"
       },
       "h7": {
        "color": "headingColor",
        "font-family": "Ubuntu"
       },
       "li": {
        "color": "mainColor",
        "font-family": "Ubuntu",
        "font-size": 5
       },
       "p": {
        "color": "mainColor",
        "font-family": "Ubuntu",
        "font-size": 5
       }
      },
      "text-base": {
       "color": "mainColor",
       "font-family": "Ubuntu",
       "font-size": 5
      }
     },
     "cfc03641-b8a9-4c57-9055-ad6afd80bf9e": {
      "backgrounds": {
       "dc7afa04-bf90-40b1-82a5-726e3cff5267": {
        "background-color": "31af15d2-7e15-44c5-ab5e-e04b16a89eff",
        "id": "dc7afa04-bf90-40b1-82a5-726e3cff5267"
       }
      },
      "id": "cfc03641-b8a9-4c57-9055-ad6afd80bf9e",
      "palette": {
       "19cc588f-0593-49c9-9f4b-e4d7cc113b1c": {
        "id": "19cc588f-0593-49c9-9f4b-e4d7cc113b1c",
        "rgb": [
         252,
         252,
         252
        ]
       },
       "31af15d2-7e15-44c5-ab5e-e04b16a89eff": {
        "id": "31af15d2-7e15-44c5-ab5e-e04b16a89eff",
        "rgb": [
         68,
         68,
         68
        ]
       },
       "50f92c45-a630-455b-aec3-788680ec7410": {
        "id": "50f92c45-a630-455b-aec3-788680ec7410",
        "rgb": [
         197,
         226,
         245
        ]
       },
       "c5cc3653-2ee1-402a-aba2-7caae1da4f6c": {
        "id": "c5cc3653-2ee1-402a-aba2-7caae1da4f6c",
        "rgb": [
         43,
         126,
         184
        ]
       },
       "efa7f048-9acb-414c-8b04-a26811511a21": {
        "id": "efa7f048-9acb-414c-8b04-a26811511a21",
        "rgb": [
         25.118061674008803,
         73.60176211453744,
         107.4819383259912
        ]
       }
      },
      "rules": {
       "a": {
        "color": "19cc588f-0593-49c9-9f4b-e4d7cc113b1c"
       },
       "blockquote": {
        "color": "50f92c45-a630-455b-aec3-788680ec7410",
        "font-size": 3
       },
       "code": {
        "font-family": "Anonymous Pro"
       },
       "h1": {
        "color": "19cc588f-0593-49c9-9f4b-e4d7cc113b1c",
        "font-family": "Merriweather",
        "font-size": 8
       },
       "h2": {
        "color": "19cc588f-0593-49c9-9f4b-e4d7cc113b1c",
        "font-family": "Merriweather",
        "font-size": 6
       },
       "h3": {
        "color": "50f92c45-a630-455b-aec3-788680ec7410",
        "font-family": "Lato",
        "font-size": 5.5
       },
       "h4": {
        "color": "c5cc3653-2ee1-402a-aba2-7caae1da4f6c",
        "font-family": "Lato",
        "font-size": 5
       },
       "h5": {
        "font-family": "Lato"
       },
       "h6": {
        "font-family": "Lato"
       },
       "h7": {
        "font-family": "Lato"
       },
       "li": {
        "color": "50f92c45-a630-455b-aec3-788680ec7410",
        "font-size": 3.25
       },
       "pre": {
        "font-family": "Anonymous Pro",
        "font-size": 4
       }
      },
      "text-base": {
       "color": "19cc588f-0593-49c9-9f4b-e4d7cc113b1c",
       "font-family": "Lato",
       "font-size": 4
      }
     }
    }
   }
  }
 },
 "nbformat": 4,
 "nbformat_minor": 1
}
